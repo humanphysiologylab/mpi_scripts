{
 "cells": [
  {
   "cell_type": "code",
   "execution_count": 1,
   "metadata": {},
   "outputs": [],
   "source": [
    "import os\n",
    "import json\n",
    "import copy\n",
    "\n",
    "import sys\n",
    "sys.path.append(\"../mpi_scripts/voigt\")\n",
    "from io_utils import strip_comments"
   ]
  },
  {
   "cell_type": "code",
   "execution_count": 2,
   "metadata": {},
   "outputs": [],
   "source": [
    "def rel_join(start, *args):\n",
    "    path = os.path.join(*args)\n",
    "    relpath = os.path.relpath(path, start=start)\n",
    "    # abspath = os.path.abspath(os.path.relpath(relpath))\n",
    "    # realpath = os.path.realpath(relpath)\n",
    "    return os.path.abspath(path) # relpath"
   ]
  },
  {
   "cell_type": "markdown",
   "metadata": {},
   "source": [
    "# Synthetic"
   ]
  },
  {
   "cell_type": "code",
   "execution_count": 3,
   "metadata": {},
   "outputs": [],
   "source": [
    "entry_point = \"../mpi_scripts/voigt/mpi_script.py\""
   ]
  },
  {
   "cell_type": "markdown",
   "metadata": {},
   "source": [
    "## top level"
   ]
  },
  {
   "cell_type": "code",
   "execution_count": 4,
   "metadata": {},
   "outputs": [],
   "source": [
    "dirname_results = \"../results/test/\""
   ]
  },
  {
   "cell_type": "code",
   "execution_count": 5,
   "metadata": {},
   "outputs": [],
   "source": [
    "ga_dict = {\"seed\": 42,\n",
    "           \"n_organisms\": 1024,\n",
    "           \"n_elites\": 32,\n",
    "           \"n_generations\": 500,\n",
    "           \"gamma\": 0.015,\n",
    "           \"loss\": \"V_CaT_shared\",\n",
    "           \"columns_control\": [\"V\", \"fluo\"],\n",
    "           \"columns_model\": [\"V\", \"fluo\"],}"
   ]
  },
  {
   "cell_type": "code",
   "execution_count": 6,
   "metadata": {},
   "outputs": [],
   "source": [
    "# test\n",
    "ga_dict = {\"seed\": 42,\n",
    "           \"n_organisms\": 32,\n",
    "           \"n_elites\": 2,\n",
    "           \"n_generations\": 10,\n",
    "           \"gamma\": 0.015,\n",
    "           \"loss\": \"V_CaT_shared\",\n",
    "           \"columns_control\": [\"V\", \"fluo\"],\n",
    "           \"columns_model\": [\"V\", \"fluo\"],}"
   ]
  },
  {
   "cell_type": "code",
   "execution_count": 7,
   "metadata": {},
   "outputs": [],
   "source": [
    "dirname_model = \"../../models_ctypes/src/model_ctypes/_koivumaki/\"\n",
    "dirname_states = \"../../models_ctypes/data/koivumaki/fluo_10uM_ghk/states/\"\n",
    "dirname_phenotypes = \"../../models_ctypes/data/koivumaki/fluo_10uM_ghk/phenotypes/\"\n",
    "\n",
    "filename_so = \"koivumaki.so\"\n",
    "\n",
    "model_dict = {\"filename_so\": rel_join(entry_point, dirname_model, filename_so),\n",
    "              \"filename_legend_states\": rel_join(entry_point, dirname_model, \"legend_states.csv\"),\n",
    "              \"filename_legend_constants\": rel_join(entry_point, dirname_model, \"legend_constants.csv\"),\n",
    "              \n",
    "              \"t_run\": 9,\n",
    "              \"t_sampling\": 0.001,\n",
    "              \"tol\": 1e-4,\n",
    "              \"stim_period_legend_name\": \"STIM_PERIOD\",}"
   ]
  },
  {
   "cell_type": "code",
   "execution_count": 8,
   "metadata": {},
   "outputs": [
    {
     "data": {
      "text/plain": [
       "{'filename_so': '/home/andrey/WORK/HPL/Code/ga/models_ctypes/src/model_ctypes/_koivumaki/koivumaki.so',\n",
       " 'filename_legend_states': '/home/andrey/WORK/HPL/Code/ga/models_ctypes/src/model_ctypes/_koivumaki/legend_states.csv',\n",
       " 'filename_legend_constants': '/home/andrey/WORK/HPL/Code/ga/models_ctypes/src/model_ctypes/_koivumaki/legend_constants.csv',\n",
       " 't_run': 9,\n",
       " 't_sampling': 0.001,\n",
       " 'tol': 0.0001,\n",
       " 'stim_period_legend_name': 'STIM_PERIOD'}"
      ]
     },
     "execution_count": 8,
     "metadata": {},
     "output_type": "execute_result"
    }
   ],
   "source": [
    "model_dict"
   ]
  },
  {
   "cell_type": "code",
   "execution_count": null,
   "metadata": {},
   "outputs": [],
   "source": []
  },
  {
   "cell_type": "code",
   "execution_count": 9,
   "metadata": {},
   "outputs": [],
   "source": [
    "top_level = {**ga_dict, **model_dict}\n",
    "top_level[\"output_folder_name\"] = rel_join(entry_point, dirname_results)"
   ]
  },
  {
   "cell_type": "markdown",
   "metadata": {},
   "source": [
    "## experimental conditions"
   ]
  },
  {
   "cell_type": "markdown",
   "metadata": {},
   "source": [
    "### common"
   ]
  },
  {
   "cell_type": "code",
   "execution_count": 10,
   "metadata": {},
   "outputs": [],
   "source": [
    "common = {'params': {}}\n",
    "\n",
    "common_constants_fixed = {'Mg_i': 1.0,\n",
    "                          'Ca_o': 2.0,\n",
    "                          'K_o': 4,\n",
    "                          'G_seal': 0,\n",
    "                          #'Na_o': 140,\n",
    "                          }\n",
    "\n",
    "common_constants_genes_keys = ['STIM_LEVEL', 'PNa', 'gCaL', 'gt', 'gKur',\n",
    "                               'gK1', 'gKr', 'gKs', 'INaKmax', 'ICaPmax',\n",
    "                               'gIf', 'kNaCa', 'Jrel_multiplier', 'cpumps',\n",
    "                               'kSRleak', 'fluo_tot', 'gNab', 'gCab', 'gKb']\n",
    "\n",
    "common_constants_genes = {x: {'bounds': [0.1, 10], 'is_multiplier': True} for x in common_constants_genes_keys}\n",
    "\n",
    "# Custom\n",
    "common_constants_genes['gNab']['bounds'] = [0.01, 3]\n",
    "common_constants_genes['gCab']['bounds'] = [0.01, 3]\n",
    "common_constants_genes['gKb']['bounds'] = [0.01, 3]\n",
    "\n",
    "common['params'].update(common_constants_fixed)\n",
    "common['params'].update(common_constants_genes)"
   ]
  },
  {
   "cell_type": "markdown",
   "metadata": {},
   "source": [
    "### CLs"
   ]
  },
  {
   "cell_type": "code",
   "execution_count": 11,
   "metadata": {},
   "outputs": [],
   "source": [
    "CL_values = [2000, 1000, 500, 333, 250]\n",
    "\n",
    "CL_dict = {}\n",
    "\n",
    "for CL in CL_values:\n",
    "    CL_dict[CL] = {}\n",
    "    \n",
    "    params_fixed = {'STIM_PERIOD': CL / 1000}\n",
    "    \n",
    "    params_genes = {'Nai':  {\"bounds\": [5, 25]    },\n",
    "                    'Ki':   {\"bounds\": [100, 300] },\n",
    "                    'CaSR': {\"bounds\": [0.08, 8]  }\n",
    "                   }\n",
    "    \n",
    "    CL_dict[CL]['params'] = {**params_fixed, **params_genes}\n",
    "    \n",
    "    CL_dict[CL]['filename_phenotype'] = rel_join(entry_point, dirname_phenotypes, f'phenotype_{CL}.csv')\n",
    "    CL_state = 1000\n",
    "    CL_dict[CL]['filename_state'] = rel_join(entry_point, dirname_states, f'state_{CL_state}.csv')"
   ]
  },
  {
   "cell_type": "code",
   "execution_count": 12,
   "metadata": {},
   "outputs": [],
   "source": [
    "config = top_level\n",
    "config['experimental_conditions'] = {'common': common}\n",
    "config['experimental_conditions'].update(CL_dict)"
   ]
  },
  {
   "cell_type": "code",
   "execution_count": 13,
   "metadata": {},
   "outputs": [],
   "source": [
    "with open(\"../mpi_scripts/voigt/configs/config_test.json\", 'w') as f:\n",
    "    f.write(json.dumps(config, indent=4))"
   ]
  },
  {
   "cell_type": "code",
   "execution_count": null,
   "metadata": {},
   "outputs": [],
   "source": []
  }
 ],
 "metadata": {
  "kernelspec": {
   "display_name": "ga_mpi_scripts",
   "language": "python",
   "name": "ga_mpi_scripts"
  },
  "language_info": {
   "codemirror_mode": {
    "name": "ipython",
    "version": 3
   },
   "file_extension": ".py",
   "mimetype": "text/x-python",
   "name": "python",
   "nbconvert_exporter": "python",
   "pygments_lexer": "ipython3",
   "version": "3.8.10"
  }
 },
 "nbformat": 4,
 "nbformat_minor": 4
}
