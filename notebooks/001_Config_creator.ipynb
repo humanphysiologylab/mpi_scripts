{
 "cells": [
  {
   "cell_type": "code",
   "execution_count": 103,
   "metadata": {},
   "outputs": [],
   "source": [
    "import os\n",
    "import json\n",
    "import copy\n",
    "import warnings\n",
    "\n",
    "import sys\n",
    "sys.path.append(\"../mpi_scripts/voigt\")\n",
    "from io_utils import strip_comments"
   ]
  },
  {
   "cell_type": "code",
   "execution_count": 104,
   "metadata": {},
   "outputs": [],
   "source": [
    "def absjoin(*args):\n",
    "    return os.path.abspath(os.path.join(*args))"
   ]
  },
  {
   "cell_type": "code",
   "execution_count": 105,
   "metadata": {},
   "outputs": [],
   "source": [
    "def check_config_paths(config):\n",
    "    for key, value in config.items():\n",
    "        if isinstance(key, str) and ('filename' in key) and (not os.path.isfile(value)):\n",
    "            return False, key\n",
    "        if isinstance(value, dict):\n",
    "            FLAG, what = check_config_paths(value)\n",
    "            if not FLAG:\n",
    "                return FLAG, what\n",
    "    return True, None"
   ]
  },
  {
   "cell_type": "markdown",
   "metadata": {},
   "source": [
    "# Synthetic"
   ]
  },
  {
   "cell_type": "markdown",
   "metadata": {},
   "source": [
    "## top level"
   ]
  },
  {
   "cell_type": "code",
   "execution_count": 4,
   "metadata": {},
   "outputs": [
    {
     "data": {
      "text/plain": [
       "'/data90t/biomath/pikunov/WORK/ga/mpi_scripts/results/test'"
      ]
     },
     "execution_count": 4,
     "metadata": {},
     "output_type": "execute_result"
    }
   ],
   "source": [
    "dirname_results = \"../results/test/\"\n",
    "\n",
    "os.path.abspath(dirname_results)"
   ]
  },
  {
   "cell_type": "code",
   "execution_count": 5,
   "metadata": {},
   "outputs": [],
   "source": [
    "# NEW ga, gamma things\n",
    "\n",
    "ga_dict = {\"seed\": 42,\n",
    "           \"n_organisms\": int(2**12),\n",
    "           \"n_elites\": 32,\n",
    "           \"n_generations\": 500,\n",
    "           \"gamma\": 0.015,\n",
    "           \"loss\": \"V_CaT_shared\",\n",
    "           \"columns_control\": [\"V\", \"fluo\"],\n",
    "           \"columns_model\": [\"V\", \"fluo\"],}"
   ]
  },
  {
   "cell_type": "code",
   "execution_count": 6,
   "metadata": {},
   "outputs": [],
   "source": [
    "# # test\n",
    "\n",
    "# ga_dict['n_organisms'] = 32\n",
    "# ga_dict['n_elites'] = 2\n",
    "# ga_dict['n_generations'] = 3"
   ]
  },
  {
   "cell_type": "code",
   "execution_count": 7,
   "metadata": {},
   "outputs": [],
   "source": [
    "dirname_model = \"../../models_ctypes/src/model_ctypes/_koivumaki/\"\n",
    "\n",
    "dirname_inputs = \"../../models_ctypes/data/koivumaki/fluo_10uM_ghk/\"\n",
    "\n",
    "dirname_states = os.path.join(dirname_inputs, \"states/\")\n",
    "dirname_phenotypes = os.path.join(dirname_inputs, \"phenotypes/\")\n",
    "\n",
    "filename_so = \"koivumaki.so\"\n",
    "\n",
    "model_dict = {\"filename_so\": absjoin(dirname_model, filename_so),\n",
    "              \"filename_legend_states\": absjoin(dirname_model, \"legend_states.csv\"),\n",
    "              \"filename_legend_constants\": absjoin(dirname_model, \"legend_constants.csv\"),\n",
    "              \n",
    "              \"t_run\": 9,\n",
    "              \"t_sampling\": 0.001,\n",
    "              \"tol\": 1e-6,\n",
    "              \"stim_period_legend_name\": \"STIM_PERIOD\",}"
   ]
  },
  {
   "cell_type": "code",
   "execution_count": 8,
   "metadata": {},
   "outputs": [],
   "source": [
    "top_level = dict()\n",
    "top_level.update(ga_dict)\n",
    "top_level.update(model_dict)\n",
    "top_level[\"output_folder_name\"] = absjoin(dirname_results)"
   ]
  },
  {
   "cell_type": "code",
   "execution_count": 9,
   "metadata": {},
   "outputs": [
    {
     "data": {
      "text/plain": [
       "{'seed': 42,\n",
       " 'n_organisms': 4096,\n",
       " 'n_elites': 32,\n",
       " 'n_generations': 500,\n",
       " 'gamma': 0.015,\n",
       " 'loss': 'V_CaT_shared',\n",
       " 'columns_control': ['V', 'fluo'],\n",
       " 'columns_model': ['V', 'fluo'],\n",
       " 'filename_so': '/data90t/biomath/pikunov/WORK/ga/models_ctypes/src/model_ctypes/_koivumaki/koivumaki.so',\n",
       " 'filename_legend_states': '/data90t/biomath/pikunov/WORK/ga/models_ctypes/src/model_ctypes/_koivumaki/legend_states.csv',\n",
       " 'filename_legend_constants': '/data90t/biomath/pikunov/WORK/ga/models_ctypes/src/model_ctypes/_koivumaki/legend_constants.csv',\n",
       " 't_run': 9,\n",
       " 't_sampling': 0.001,\n",
       " 'tol': 1e-06,\n",
       " 'stim_period_legend_name': 'STIM_PERIOD',\n",
       " 'output_folder_name': '/data90t/biomath/pikunov/WORK/ga/mpi_scripts/results/test'}"
      ]
     },
     "execution_count": 9,
     "metadata": {},
     "output_type": "execute_result"
    }
   ],
   "source": [
    "top_level"
   ]
  },
  {
   "cell_type": "markdown",
   "metadata": {},
   "source": [
    "## experimental conditions"
   ]
  },
  {
   "cell_type": "markdown",
   "metadata": {},
   "source": [
    "### common"
   ]
  },
  {
   "cell_type": "code",
   "execution_count": 102,
   "metadata": {},
   "outputs": [],
   "source": [
    "common = {'params': {}}\n",
    "\n",
    "common_constants_fixed = {# 'Mgi': 1.0,\n",
    "                          # 'Cao': 2.0,\n",
    "                          # 'Ko': 4,\n",
    "                          # 'G_seal': 0,\n",
    "                          # 'Na_o': 140,\n",
    "                          }\n",
    "\n",
    "common_constants_genes_keys = ['STIM_LEVEL', 'PNa', 'gCaL', 'gt', 'gKur',\n",
    "                               'gK1', 'gKr', 'gKs', 'INaKmax', 'ICaPmax',\n",
    "                               'gIf', 'kNaCa', 'Jrel_multiplier', 'cpumps',\n",
    "                               'kSRleak', 'fluo_tot', 'gNab', 'gCab', 'gKb', 'G_seal']\n",
    "\n",
    "# default_gene_dict = {'bounds': [0.1, 10], 'gamma': 0.015, 'is_multiplier': True}\n",
    "default_gene_dict = {'bounds': [0.1, 10], 'is_multiplier': True}\n",
    "\n",
    "common_constants_genes = {x: dict(default_gene_dict) for x in common_constants_genes_keys}"
   ]
  },
  {
   "cell_type": "code",
   "execution_count": 11,
   "metadata": {},
   "outputs": [],
   "source": [
    "# Custom\n",
    "\n",
    "common_constants_genes['STIM_LEVEL']['bounds'] = [0.33, 1.33]\n",
    "\n",
    "common_constants_genes['G_seal']['bounds'] = [0.01, 3]\n",
    "\n",
    "common_constants_genes['gNab']['bounds'] = [0.01, 3]\n",
    "common_constants_genes['gCab']['bounds'] = [0.01, 3]\n",
    "common_constants_genes['gKb']['bounds']  = [0.01, 3]\n",
    "\n",
    "common['params'].update(common_constants_fixed)\n",
    "common['params'].update(common_constants_genes)"
   ]
  },
  {
   "cell_type": "markdown",
   "metadata": {},
   "source": [
    "### CLs"
   ]
  },
  {
   "cell_type": "code",
   "execution_count": 12,
   "metadata": {},
   "outputs": [],
   "source": [
    "CL_values = [2000, 1000, 500, 333, 250]\n",
    "# CL_values = [2000, 500, 333, 250]\n",
    "\n",
    "CL_dict = {}\n",
    "\n",
    "for CL in CL_values:\n",
    "    CL_dict[CL] = {}\n",
    "    \n",
    "    params_fixed = {'STIM_PERIOD': CL / 1000}\n",
    "    \n",
    "    params_genes = {'Nai':  {\"bounds\": [5, 20]   },\n",
    "                    'Ki':   {\"bounds\": [100, 200]},\n",
    "                    'CaSR': {\"bounds\": [0.08, 8]}\n",
    "                   }\n",
    "    \n",
    "    CL_dict[CL]['params'] = {**params_fixed, **params_genes}\n",
    "    \n",
    "    CL_dict[CL]['filename_phenotype'] = absjoin(dirname_phenotypes, f'phenotype_{CL}.csv')\n",
    "    CL_state = 1000\n",
    "    CL_dict[CL]['filename_state'] = absjoin(dirname_states, f'state_{CL_state}.csv')\n",
    "    \n",
    "#     import pandas as pd\n",
    "#     import numpy as np\n",
    "#     f_csv = CL_dict[CL]['filename_state']\n",
    "#     f_txt = f_csv.replace(\".csv\", \".txt\")\n",
    "#     np.savetxt(f_txt, pd.read_csv(f_csv).iloc[:, -1].values)\n",
    "#     CL_dict[CL]['filename_state'] = f_txt\n",
    "\n",
    "# f_txt"
   ]
  },
  {
   "cell_type": "code",
   "execution_count": 13,
   "metadata": {},
   "outputs": [],
   "source": [
    "config = top_level\n",
    "config['experimental_conditions'] = {'common': common}\n",
    "config['experimental_conditions'].update(CL_dict)"
   ]
  },
  {
   "cell_type": "code",
   "execution_count": 15,
   "metadata": {},
   "outputs": [
    {
     "name": "stdout",
     "output_type": "stream",
     "text": [
      "Config is done!\n"
     ]
    }
   ],
   "source": [
    "if not (pair := check_config_paths(config))[0]:\n",
    "    msg = \"Check this: {}\".format(pair[1])\n",
    "    warnings.warn(msg)\n",
    "else:\n",
    "    with open(\"../mpi_scripts/voigt/configs/config.json\", 'w') as f:\n",
    "        f.write(json.dumps(config, indent=4))\n",
    "    print(\"Config is done!\")"
   ]
  },
  {
   "cell_type": "code",
   "execution_count": 15,
   "metadata": {},
   "outputs": [],
   "source": [
    "# with open(\"../../chimera/ghk_gav1/configs/config.json\", 'w') as f:\n",
    "#     f.write(json.dumps(config, indent=4))"
   ]
  },
  {
   "cell_type": "code",
   "execution_count": null,
   "metadata": {},
   "outputs": [],
   "source": []
  },
  {
   "cell_type": "markdown",
   "metadata": {},
   "source": [
    "# Voigt"
   ]
  },
  {
   "cell_type": "markdown",
   "metadata": {},
   "source": [
    "## top level"
   ]
  },
  {
   "cell_type": "code",
   "execution_count": 129,
   "metadata": {},
   "outputs": [],
   "source": [
    "dirname_configs = \"../../mpi_scripts/mpi_scripts/voigt/configs/configs_voigt/\"\n",
    "os.makedirs(dirname_configs, exist_ok=True)"
   ]
  },
  {
   "cell_type": "code",
   "execution_count": 130,
   "metadata": {},
   "outputs": [
    {
     "data": {
      "text/plain": [
       "'/data90t/biomath/pikunov/WORK/ga/mpi_scripts/results/voigt'"
      ]
     },
     "execution_count": 130,
     "metadata": {},
     "output_type": "execute_result"
    }
   ],
   "source": [
    "dirname_results = \"../results/voigt/\"\n",
    "\n",
    "os.path.abspath(dirname_results)"
   ]
  },
  {
   "cell_type": "code",
   "execution_count": 131,
   "metadata": {},
   "outputs": [],
   "source": [
    "# NEW ga, gamma things\n",
    "\n",
    "ga_dict = {\"seed\": 42,\n",
    "           \"n_organisms\": int(2**12),\n",
    "           \"n_elites\": 32,\n",
    "           \"n_generations\": 500,\n",
    "           \"gamma\": 0.015,\n",
    "           \"loss\": \"V_CaT_shared\",\n",
    "           \"columns_control\": [\"V\", \"CaT\"],\n",
    "           \"columns_model\": [\"V\", \"fluo\"],\n",
    "           \"column_stim_protocol\": \"Ist\",}"
   ]
  },
  {
   "cell_type": "code",
   "execution_count": 132,
   "metadata": {},
   "outputs": [],
   "source": [
    "# # test\n",
    "\n",
    "# ga_dict['n_organisms'] = 32\n",
    "# ga_dict['n_elites'] = 2\n",
    "# ga_dict['n_generations'] = 3"
   ]
  },
  {
   "cell_type": "code",
   "execution_count": 133,
   "metadata": {},
   "outputs": [],
   "source": [
    "dirname_model = \"../../models_ctypes/src/model_ctypes/_koivumaki/\"\n",
    "\n",
    "dirname_states = \"../../models_ctypes/data/koivumaki/fluo_10uM_ghk/states/\"\n",
    "\n",
    "filename_so = \"koivumaki.so\"\n",
    "\n",
    "model_dict = {\"filename_so\": absjoin(dirname_model, filename_so),\n",
    "              \"filename_legend_states\": absjoin(dirname_model, \"legend_states.csv\"),\n",
    "              \"filename_legend_constants\": absjoin(dirname_model, \"legend_constants.csv\"),\n",
    "              \n",
    "              \"t_run\": 9,\n",
    "              \"t_sampling\": 0.0001,\n",
    "              \"tol\": 1e-6,\n",
    "              \"stim_period_legend_name\": \"STIM_PERIOD\",}"
   ]
  },
  {
   "cell_type": "code",
   "execution_count": 134,
   "metadata": {},
   "outputs": [],
   "source": [
    "top_level = dict()\n",
    "top_level.update(ga_dict)\n",
    "top_level.update(model_dict)\n",
    "top_level[\"output_folder_name\"] = absjoin(dirname_results)"
   ]
  },
  {
   "cell_type": "code",
   "execution_count": 135,
   "metadata": {},
   "outputs": [
    {
     "data": {
      "text/plain": [
       "{'seed': 42,\n",
       " 'n_organisms': 4096,\n",
       " 'n_elites': 32,\n",
       " 'n_generations': 500,\n",
       " 'gamma': 0.015,\n",
       " 'loss': 'V_CaT_shared',\n",
       " 'columns_control': ['V', 'CaT'],\n",
       " 'columns_model': ['V', 'fluo'],\n",
       " 'column_stim_protocol': 'Ist',\n",
       " 'filename_so': '/data90t/biomath/pikunov/WORK/ga/models_ctypes/src/model_ctypes/_koivumaki/koivumaki.so',\n",
       " 'filename_legend_states': '/data90t/biomath/pikunov/WORK/ga/models_ctypes/src/model_ctypes/_koivumaki/legend_states.csv',\n",
       " 'filename_legend_constants': '/data90t/biomath/pikunov/WORK/ga/models_ctypes/src/model_ctypes/_koivumaki/legend_constants.csv',\n",
       " 't_run': 9,\n",
       " 't_sampling': 0.0001,\n",
       " 'tol': 1e-06,\n",
       " 'stim_period_legend_name': 'STIM_PERIOD',\n",
       " 'output_folder_name': '/data90t/biomath/pikunov/WORK/ga/mpi_scripts/results/voigt'}"
      ]
     },
     "execution_count": 135,
     "metadata": {},
     "output_type": "execute_result"
    }
   ],
   "source": [
    "top_level"
   ]
  },
  {
   "cell_type": "markdown",
   "metadata": {},
   "source": [
    "## experimental conditions"
   ]
  },
  {
   "cell_type": "markdown",
   "metadata": {},
   "source": [
    "### common"
   ]
  },
  {
   "cell_type": "code",
   "execution_count": 136,
   "metadata": {},
   "outputs": [],
   "source": [
    "common = {'params': {}}\n",
    "\n",
    "common_constants_fixed = {#'Mgi': 1.0,\n",
    "                          'Cao': 2.0,\n",
    "                          'Ko': 4,\n",
    "                          # 'G_seal': 0,\n",
    "                          'Nao': 140,\n",
    "                          }\n",
    "\n",
    "common_constants_genes_keys = ['STIM_LEVEL', 'PNa', 'gCaL', 'gt', 'gKur',\n",
    "                               'gK1', 'gKr', 'gKs', 'INaKmax', 'ICaPmax',\n",
    "                               'gIf', 'kNaCa', 'Jrel_multiplier', 'cpumps',\n",
    "                               'kSRleak', 'fluo_tot', 'gNab', 'gCab', 'gKb', 'G_seal']\n",
    "\n",
    "# default_gene_dict = {'bounds': [0.1, 10], 'gamma': 0.015, 'is_multiplier': True}\n",
    "default_gene_dict = {'bounds': [0.1, 10], 'is_multiplier': True}\n",
    "\n",
    "common_constants_genes = {x: dict(default_gene_dict) for x in common_constants_genes_keys}"
   ]
  },
  {
   "cell_type": "code",
   "execution_count": 137,
   "metadata": {},
   "outputs": [],
   "source": [
    "# Custom\n",
    "\n",
    "common_constants_genes['STIM_LEVEL']['bounds'] = [0.33, 1.33]\n",
    "\n",
    "common_constants_genes['G_seal']['bounds'] = [0.01, 3]\n",
    "\n",
    "common_constants_genes['gNab']['bounds'] = [0.01, 3]\n",
    "common_constants_genes['gCab']['bounds'] = [0.01, 3]\n",
    "common_constants_genes['gKb']['bounds'] = [0.01, 3]\n",
    "\n",
    "common['params'].update(common_constants_fixed)\n",
    "common['params'].update(common_constants_genes)"
   ]
  },
  {
   "cell_type": "markdown",
   "metadata": {},
   "source": [
    "### Group / Cell / CL"
   ]
  },
  {
   "cell_type": "code",
   "execution_count": 138,
   "metadata": {},
   "outputs": [],
   "source": [
    "filename_phenotype_template = \"../../data/voigt/10kHz/G{ig}/C{ic}/phenotype_{CL}.csv\"\n",
    "filename_protocol_template = \"../../data/voigt/10kHz/G{ig}/C{ic}/protocol_{CL}.csv\""
   ]
  },
  {
   "cell_type": "code",
   "execution_count": 139,
   "metadata": {},
   "outputs": [],
   "source": [
    "def lr(i):\n",
    "    return list(range(1, i + 1))\n",
    "\n",
    "cells = [lr(3), lr(4), lr(5), lr(8)]"
   ]
  },
  {
   "cell_type": "code",
   "execution_count": 140,
   "metadata": {},
   "outputs": [],
   "source": [
    "CL_values_states = [2000, 1000, 500, 333, 250]\n",
    "CL_values_phenotypes = [2064, 1032, 516, 344, 258]"
   ]
  },
  {
   "cell_type": "code",
   "execution_count": 141,
   "metadata": {},
   "outputs": [],
   "source": [
    "for ig in range(1, 4 + 1):\n",
    "    for ic in cells[ig - 1]:\n",
    "\n",
    "        CL_dict = {}\n",
    "\n",
    "        for CL_state, CL_phen in zip(CL_values_states, CL_values_phenotypes):\n",
    "\n",
    "            CL_dict[CL_phen] = {}\n",
    "\n",
    "            params_fixed = {'STIM_PERIOD': CL_phen / 1000}\n",
    "\n",
    "            params_genes = {'Nai':  {\"bounds\": [5, 20]   },\n",
    "                            'Ki':   {\"bounds\": [100, 200]},\n",
    "                            'CaSR': {\"bounds\": [0.08, 8]}\n",
    "                           }\n",
    "\n",
    "            CL_dict[CL_phen]['params'] = {**params_fixed, **params_genes}\n",
    "\n",
    "            CL_dict[CL_phen]['filename_phenotype'] = absjoin(filename_phenotype_template.format(ig=ig, ic=ic, CL=CL_phen))\n",
    "            CL_dict[CL_phen]['filename_state'] = absjoin(dirname_states, f'state_{CL_state}.csv')\n",
    "            CL_dict[CL_phen]['filename_stim_protocol'] = absjoin(filename_protocol_template.format(ig=ig, ic=ic, CL=CL_phen))\n",
    "\n",
    "            \n",
    "            config = top_level\n",
    "            config['experimental_conditions'] = {'common': common}\n",
    "            config['experimental_conditions'].update(CL_dict)\n",
    "            \n",
    "            if not (pair := check_config_paths(config))[0]:\n",
    "                msg = \"Check this: {}\".format(pair[1])\n",
    "                warnings.warn(msg)\n",
    "                break\n",
    "            else:\n",
    "                filename_config = os.path.join(dirname_configs, \"config_G{ig}C{ic}.json\".format(ig=ig, ic=ic))\n",
    "                with open(filename_config, 'w') as f:\n",
    "                    f.write(json.dumps(config, indent=4))\n",
    "                # print(\"Config is done!\")"
   ]
  },
  {
   "cell_type": "code",
   "execution_count": 142,
   "metadata": {},
   "outputs": [],
   "source": [
    "# with open(\"../../chimera/ghk_gav1/configs/config.json\", 'w') as f:\n",
    "#     f.write(json.dumps(config, indent=4))"
   ]
  },
  {
   "cell_type": "code",
   "execution_count": 143,
   "metadata": {},
   "outputs": [
    {
     "data": {
      "text/plain": [
       "{'seed': 42,\n",
       " 'n_organisms': 4096,\n",
       " 'n_elites': 32,\n",
       " 'n_generations': 500,\n",
       " 'gamma': 0.015,\n",
       " 'loss': 'V_CaT_shared',\n",
       " 'columns_control': ['V', 'CaT'],\n",
       " 'columns_model': ['V', 'fluo'],\n",
       " 'column_stim_protocol': 'Ist',\n",
       " 'filename_so': '/data90t/biomath/pikunov/WORK/ga/models_ctypes/src/model_ctypes/_koivumaki/koivumaki.so',\n",
       " 'filename_legend_states': '/data90t/biomath/pikunov/WORK/ga/models_ctypes/src/model_ctypes/_koivumaki/legend_states.csv',\n",
       " 'filename_legend_constants': '/data90t/biomath/pikunov/WORK/ga/models_ctypes/src/model_ctypes/_koivumaki/legend_constants.csv',\n",
       " 't_run': 9,\n",
       " 't_sampling': 0.0001,\n",
       " 'tol': 1e-06,\n",
       " 'stim_period_legend_name': 'STIM_PERIOD',\n",
       " 'output_folder_name': '/data90t/biomath/pikunov/WORK/ga/mpi_scripts/results/voigt',\n",
       " 'experimental_conditions': {'common': {'params': {'Cao': 2.0,\n",
       "    'Ko': 4,\n",
       "    'Nao': 140,\n",
       "    'STIM_LEVEL': {'bounds': [0.33, 1.33], 'is_multiplier': True},\n",
       "    'PNa': {'bounds': [0.1, 10], 'is_multiplier': True},\n",
       "    'gCaL': {'bounds': [0.1, 10], 'is_multiplier': True},\n",
       "    'gt': {'bounds': [0.1, 10], 'is_multiplier': True},\n",
       "    'gKur': {'bounds': [0.1, 10], 'is_multiplier': True},\n",
       "    'gK1': {'bounds': [0.1, 10], 'is_multiplier': True},\n",
       "    'gKr': {'bounds': [0.1, 10], 'is_multiplier': True},\n",
       "    'gKs': {'bounds': [0.1, 10], 'is_multiplier': True},\n",
       "    'INaKmax': {'bounds': [0.1, 10], 'is_multiplier': True},\n",
       "    'ICaPmax': {'bounds': [0.1, 10], 'is_multiplier': True},\n",
       "    'gIf': {'bounds': [0.1, 10], 'is_multiplier': True},\n",
       "    'kNaCa': {'bounds': [0.1, 10], 'is_multiplier': True},\n",
       "    'Jrel_multiplier': {'bounds': [0.1, 10], 'is_multiplier': True},\n",
       "    'cpumps': {'bounds': [0.1, 10], 'is_multiplier': True},\n",
       "    'kSRleak': {'bounds': [0.1, 10], 'is_multiplier': True},\n",
       "    'fluo_tot': {'bounds': [0.1, 10], 'is_multiplier': True},\n",
       "    'gNab': {'bounds': [0.01, 3], 'is_multiplier': True},\n",
       "    'gCab': {'bounds': [0.01, 3], 'is_multiplier': True},\n",
       "    'gKb': {'bounds': [0.01, 3], 'is_multiplier': True},\n",
       "    'G_seal': {'bounds': [0.01, 3], 'is_multiplier': True}}},\n",
       "  2064: {'params': {'STIM_PERIOD': 2.064,\n",
       "    'Nai': {'bounds': [5, 20]},\n",
       "    'Ki': {'bounds': [100, 200]},\n",
       "    'CaSR': {'bounds': [0.08, 8]}},\n",
       "   'filename_phenotype': '/data90t/biomath/pikunov/WORK/ga/data/voigt/10kHz/G4/C8/phenotype_2064.csv',\n",
       "   'filename_state': '/data90t/biomath/pikunov/WORK/ga/models_ctypes/data/koivumaki/fluo_10uM_ghk/states/state_2000.csv',\n",
       "   'filename_stim_protocol': '/data90t/biomath/pikunov/WORK/ga/data/voigt/10kHz/G4/C8/protocol_2064.csv'},\n",
       "  1032: {'params': {'STIM_PERIOD': 1.032,\n",
       "    'Nai': {'bounds': [5, 20]},\n",
       "    'Ki': {'bounds': [100, 200]},\n",
       "    'CaSR': {'bounds': [0.08, 8]}},\n",
       "   'filename_phenotype': '/data90t/biomath/pikunov/WORK/ga/data/voigt/10kHz/G4/C8/phenotype_1032.csv',\n",
       "   'filename_state': '/data90t/biomath/pikunov/WORK/ga/models_ctypes/data/koivumaki/fluo_10uM_ghk/states/state_1000.csv',\n",
       "   'filename_stim_protocol': '/data90t/biomath/pikunov/WORK/ga/data/voigt/10kHz/G4/C8/protocol_1032.csv'},\n",
       "  516: {'params': {'STIM_PERIOD': 0.516,\n",
       "    'Nai': {'bounds': [5, 20]},\n",
       "    'Ki': {'bounds': [100, 200]},\n",
       "    'CaSR': {'bounds': [0.08, 8]}},\n",
       "   'filename_phenotype': '/data90t/biomath/pikunov/WORK/ga/data/voigt/10kHz/G4/C8/phenotype_516.csv',\n",
       "   'filename_state': '/data90t/biomath/pikunov/WORK/ga/models_ctypes/data/koivumaki/fluo_10uM_ghk/states/state_500.csv',\n",
       "   'filename_stim_protocol': '/data90t/biomath/pikunov/WORK/ga/data/voigt/10kHz/G4/C8/protocol_516.csv'},\n",
       "  344: {'params': {'STIM_PERIOD': 0.344,\n",
       "    'Nai': {'bounds': [5, 20]},\n",
       "    'Ki': {'bounds': [100, 200]},\n",
       "    'CaSR': {'bounds': [0.08, 8]}},\n",
       "   'filename_phenotype': '/data90t/biomath/pikunov/WORK/ga/data/voigt/10kHz/G4/C8/phenotype_344.csv',\n",
       "   'filename_state': '/data90t/biomath/pikunov/WORK/ga/models_ctypes/data/koivumaki/fluo_10uM_ghk/states/state_333.csv',\n",
       "   'filename_stim_protocol': '/data90t/biomath/pikunov/WORK/ga/data/voigt/10kHz/G4/C8/protocol_344.csv'},\n",
       "  258: {'params': {'STIM_PERIOD': 0.258,\n",
       "    'Nai': {'bounds': [5, 20]},\n",
       "    'Ki': {'bounds': [100, 200]},\n",
       "    'CaSR': {'bounds': [0.08, 8]}},\n",
       "   'filename_phenotype': '/data90t/biomath/pikunov/WORK/ga/data/voigt/10kHz/G4/C8/phenotype_258.csv',\n",
       "   'filename_state': '/data90t/biomath/pikunov/WORK/ga/models_ctypes/data/koivumaki/fluo_10uM_ghk/states/state_250.csv',\n",
       "   'filename_stim_protocol': '/data90t/biomath/pikunov/WORK/ga/data/voigt/10kHz/G4/C8/protocol_258.csv'}}}"
      ]
     },
     "execution_count": 143,
     "metadata": {},
     "output_type": "execute_result"
    }
   ],
   "source": [
    "config"
   ]
  },
  {
   "cell_type": "code",
   "execution_count": null,
   "metadata": {},
   "outputs": [],
   "source": []
  }
 ],
 "metadata": {
  "kernelspec": {
   "display_name": "ga_mpi_scripts",
   "language": "python",
   "name": "ga_mpi_scripts"
  },
  "language_info": {
   "codemirror_mode": {
    "name": "ipython",
    "version": 3
   },
   "file_extension": ".py",
   "mimetype": "text/x-python",
   "name": "python",
   "nbconvert_exporter": "python",
   "pygments_lexer": "ipython3",
   "version": "3.8.10"
  }
 },
 "nbformat": 4,
 "nbformat_minor": 4
}
